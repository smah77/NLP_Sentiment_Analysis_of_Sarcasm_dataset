{
  "nbformat": 4,
  "nbformat_minor": 0,
  "metadata": {
    "accelerator": "GPU",
    "colab": {
      "name": "P4_14_C3W3_sarcasm_E_BLSTM_2D_VA_.80.ipynb",
      "provenance": [],
      "collapsed_sections": [],
      "toc_visible": true
    },
    "kernelspec": {
      "display_name": "Python 3",
      "language": "python",
      "name": "python3"
    },
    "language_info": {
      "codemirror_mode": {
        "name": "ipython",
        "version": 3
      },
      "file_extension": ".py",
      "mimetype": "text/x-python",
      "name": "python",
      "nbconvert_exporter": "python",
      "pygments_lexer": "ipython3",
      "version": "3.7.6"
    }
  },
  "cells": [
    {
      "cell_type": "code",
      "metadata": {
        "id": "zX4Kg8DUTKWO"
      },
      "source": [
        "#@title Licensed under the Apache License, Version 2.0 (the \"License\");\n",
        "# you may not use this file except in compliance with the License.\n",
        "# You may obtain a copy of the License at\n",
        "#\n",
        "# https://www.apache.org/licenses/LICENSE-2.0\n",
        "#\n",
        "# Unless required by applicable law or agreed to in writing, software\n",
        "# distributed under the License is distributed on an \"AS IS\" BASIS,\n",
        "# WITHOUT WARRANTIES OR CONDITIONS OF ANY KIND, either express or implied.\n",
        "# See the License for the specific language governing permissions and\n",
        "# limitations under the License."
      ],
      "execution_count": 1,
      "outputs": []
    },
    {
      "cell_type": "markdown",
      "metadata": {
        "id": "VIb-IecCXt2C"
      },
      "source": [
        "<a href=\"https://colab.research.google.com/github/lmoroney/dlaicourse/blob/master/TensorFlow%20In%20Practice/Course%203%20-%20NLP/Course%203%20-%20Week%203%20-%20Lesson%202.ipynb\" target=\"_parent\"><img src=\"https://colab.research.google.com/assets/colab-badge.svg\" alt=\"Open In Colab\"/></a>"
      ]
    },
    {
      "cell_type": "code",
      "metadata": {
        "id": "jGwXGIXvFhXW",
        "colab": {
          "base_uri": "https://localhost:8080/"
        },
        "outputId": "01b1ea04-c366-44cd-8e2c-f9dad130cbe2"
      },
      "source": [
        "import numpy as np\n",
        "\n",
        "import json\n",
        "import tensorflow as tf\n",
        "\n",
        "from tensorflow.keras.preprocessing.text import Tokenizer\n",
        "from tensorflow.keras.preprocessing.sequence import pad_sequences\n",
        "\n",
        "!wget --no-check-certificate \\\n",
        "    https://storage.googleapis.com/laurencemoroney-blog.appspot.com/sarcasm.json \\\n",
        "    -O /tmp/sarcasm.json\n",
        "\n",
        "vocab_size = 1000\n",
        "embedding_dim = 16\n",
        "max_length = 120\n",
        "trunc_type='post'\n",
        "padding_type='post'\n",
        "oov_tok = \"<OOV>\"\n",
        "training_size = 20000\n",
        "\n",
        "\n",
        "with open(\"/tmp/sarcasm.json\", 'r') as f:\n",
        "    datastore = json.load(f)\n",
        "\n",
        "\n",
        "sentences = []\n",
        "labels = []\n",
        "urls = []\n",
        "for item in datastore:\n",
        "    sentences.append(item['headline'])\n",
        "    labels.append(item['is_sarcastic'])\n",
        "\n",
        "training_sentences = sentences[0:training_size]\n",
        "testing_sentences = sentences[training_size:]\n",
        "training_labels = labels[0:training_size]\n",
        "testing_labels = labels[training_size:]\n",
        "\n",
        "tokenizer = Tokenizer(num_words=vocab_size, oov_token=oov_tok)\n",
        "tokenizer.fit_on_texts(training_sentences)\n",
        "\n",
        "word_index = tokenizer.word_index\n",
        "\n",
        "training_sequences = tokenizer.texts_to_sequences(training_sentences)\n",
        "training_padded = pad_sequences(training_sequences, maxlen=max_length, padding=padding_type, truncating=trunc_type)\n",
        "\n",
        "testing_sequences = tokenizer.texts_to_sequences(testing_sentences)\n",
        "testing_padded = pad_sequences(testing_sequences, maxlen=max_length, padding=padding_type, truncating=trunc_type)\n",
        "\n",
        "model = tf.keras.Sequential([\n",
        "    tf.keras.layers.Embedding(vocab_size, embedding_dim, input_length=max_length),\n",
        "    tf.keras.layers.Bidirectional(tf.keras.layers.LSTM(32)),\n",
        "    tf.keras.layers.Dense(24, activation='relu'),\n",
        "    tf.keras.layers.Dense(1, activation='sigmoid')\n",
        "])\n",
        "model.compile(loss='binary_crossentropy',optimizer='adam',metrics=['accuracy'])\n",
        "model.summary()\n",
        "\n",
        "num_epochs = 50\n",
        "training_padded = np.array(training_padded)\n",
        "training_labels = np.array(training_labels)\n",
        "testing_padded = np.array(testing_padded)\n",
        "testing_labels = np.array(testing_labels)\n",
        "history = model.fit(training_padded, training_labels, epochs=num_epochs, validation_data=(testing_padded, testing_labels), verbose=1)\n"
      ],
      "execution_count": 2,
      "outputs": [
        {
          "output_type": "stream",
          "text": [
            "--2021-04-04 14:53:22--  https://storage.googleapis.com/laurencemoroney-blog.appspot.com/sarcasm.json\n",
            "Resolving storage.googleapis.com (storage.googleapis.com)... 108.177.97.128, 108.177.125.128, 74.125.204.128, ...\n",
            "Connecting to storage.googleapis.com (storage.googleapis.com)|108.177.97.128|:443... connected.\n",
            "HTTP request sent, awaiting response... 200 OK\n",
            "Length: 5643545 (5.4M) [application/json]\n",
            "Saving to: ‘/tmp/sarcasm.json’\n",
            "\n",
            "/tmp/sarcasm.json   100%[===================>]   5.38M  23.6MB/s    in 0.2s    \n",
            "\n",
            "2021-04-04 14:53:23 (23.6 MB/s) - ‘/tmp/sarcasm.json’ saved [5643545/5643545]\n",
            "\n",
            "Model: \"sequential\"\n",
            "_________________________________________________________________\n",
            "Layer (type)                 Output Shape              Param #   \n",
            "=================================================================\n",
            "embedding (Embedding)        (None, 120, 16)           16000     \n",
            "_________________________________________________________________\n",
            "bidirectional (Bidirectional (None, 64)                12544     \n",
            "_________________________________________________________________\n",
            "dense (Dense)                (None, 24)                1560      \n",
            "_________________________________________________________________\n",
            "dense_1 (Dense)              (None, 1)                 25        \n",
            "=================================================================\n",
            "Total params: 30,129\n",
            "Trainable params: 30,129\n",
            "Non-trainable params: 0\n",
            "_________________________________________________________________\n",
            "Epoch 1/50\n",
            "625/625 [==============================] - 71s 63ms/step - loss: 0.5610 - accuracy: 0.6852 - val_loss: 0.3935 - val_accuracy: 0.8202\n",
            "Epoch 2/50\n",
            "625/625 [==============================] - 38s 61ms/step - loss: 0.3574 - accuracy: 0.8380 - val_loss: 0.3702 - val_accuracy: 0.8335\n",
            "Epoch 3/50\n",
            "625/625 [==============================] - 38s 61ms/step - loss: 0.3231 - accuracy: 0.8537 - val_loss: 0.3943 - val_accuracy: 0.8167\n",
            "Epoch 4/50\n",
            "625/625 [==============================] - 38s 60ms/step - loss: 0.3061 - accuracy: 0.8651 - val_loss: 0.3758 - val_accuracy: 0.8278\n",
            "Epoch 5/50\n",
            "625/625 [==============================] - 38s 61ms/step - loss: 0.2966 - accuracy: 0.8705 - val_loss: 0.3739 - val_accuracy: 0.8280\n",
            "Epoch 6/50\n",
            "625/625 [==============================] - 38s 61ms/step - loss: 0.2893 - accuracy: 0.8757 - val_loss: 0.3744 - val_accuracy: 0.8334\n",
            "Epoch 7/50\n",
            "625/625 [==============================] - 38s 61ms/step - loss: 0.2801 - accuracy: 0.8776 - val_loss: 0.3790 - val_accuracy: 0.8317\n",
            "Epoch 8/50\n",
            "625/625 [==============================] - 38s 61ms/step - loss: 0.2713 - accuracy: 0.8800 - val_loss: 0.3942 - val_accuracy: 0.8253\n",
            "Epoch 9/50\n",
            "625/625 [==============================] - 38s 61ms/step - loss: 0.2644 - accuracy: 0.8853 - val_loss: 0.4005 - val_accuracy: 0.8231\n",
            "Epoch 10/50\n",
            "625/625 [==============================] - 38s 61ms/step - loss: 0.2592 - accuracy: 0.8864 - val_loss: 0.4007 - val_accuracy: 0.8269\n",
            "Epoch 11/50\n",
            "625/625 [==============================] - 38s 61ms/step - loss: 0.2489 - accuracy: 0.8922 - val_loss: 0.4043 - val_accuracy: 0.8280\n",
            "Epoch 12/50\n",
            "625/625 [==============================] - 38s 61ms/step - loss: 0.2453 - accuracy: 0.8941 - val_loss: 0.4062 - val_accuracy: 0.8247\n",
            "Epoch 13/50\n",
            "625/625 [==============================] - 38s 61ms/step - loss: 0.2308 - accuracy: 0.9035 - val_loss: 0.4467 - val_accuracy: 0.8262\n",
            "Epoch 14/50\n",
            "625/625 [==============================] - 38s 61ms/step - loss: 0.2286 - accuracy: 0.9053 - val_loss: 0.4260 - val_accuracy: 0.8283\n",
            "Epoch 15/50\n",
            "625/625 [==============================] - 38s 61ms/step - loss: 0.2191 - accuracy: 0.9104 - val_loss: 0.4202 - val_accuracy: 0.8267\n",
            "Epoch 16/50\n",
            "625/625 [==============================] - 38s 61ms/step - loss: 0.2151 - accuracy: 0.9095 - val_loss: 0.4373 - val_accuracy: 0.8243\n",
            "Epoch 17/50\n",
            "625/625 [==============================] - 38s 61ms/step - loss: 0.2101 - accuracy: 0.9138 - val_loss: 0.4730 - val_accuracy: 0.8216\n",
            "Epoch 18/50\n",
            "625/625 [==============================] - 38s 61ms/step - loss: 0.1995 - accuracy: 0.9174 - val_loss: 0.4744 - val_accuracy: 0.8220\n",
            "Epoch 19/50\n",
            "625/625 [==============================] - 38s 61ms/step - loss: 0.1923 - accuracy: 0.9226 - val_loss: 0.4865 - val_accuracy: 0.8202\n",
            "Epoch 20/50\n",
            "625/625 [==============================] - 38s 60ms/step - loss: 0.1882 - accuracy: 0.9229 - val_loss: 0.4871 - val_accuracy: 0.8214\n",
            "Epoch 21/50\n",
            "625/625 [==============================] - 38s 61ms/step - loss: 0.1783 - accuracy: 0.9270 - val_loss: 0.5390 - val_accuracy: 0.8141\n",
            "Epoch 22/50\n",
            "625/625 [==============================] - 38s 61ms/step - loss: 0.1752 - accuracy: 0.9302 - val_loss: 0.5663 - val_accuracy: 0.8170\n",
            "Epoch 23/50\n",
            "625/625 [==============================] - 38s 61ms/step - loss: 0.1680 - accuracy: 0.9319 - val_loss: 0.6032 - val_accuracy: 0.8107\n",
            "Epoch 24/50\n",
            "625/625 [==============================] - 38s 61ms/step - loss: 0.1554 - accuracy: 0.9364 - val_loss: 0.5686 - val_accuracy: 0.8168\n",
            "Epoch 25/50\n",
            "625/625 [==============================] - 38s 61ms/step - loss: 0.1541 - accuracy: 0.9394 - val_loss: 0.5976 - val_accuracy: 0.8100\n",
            "Epoch 26/50\n",
            "625/625 [==============================] - 38s 61ms/step - loss: 0.1457 - accuracy: 0.9403 - val_loss: 0.6787 - val_accuracy: 0.8113\n",
            "Epoch 27/50\n",
            "625/625 [==============================] - 38s 61ms/step - loss: 0.1424 - accuracy: 0.9428 - val_loss: 0.7013 - val_accuracy: 0.8074\n",
            "Epoch 28/50\n",
            "625/625 [==============================] - 38s 61ms/step - loss: 0.1322 - accuracy: 0.9485 - val_loss: 0.7535 - val_accuracy: 0.8076\n",
            "Epoch 29/50\n",
            "625/625 [==============================] - 38s 61ms/step - loss: 0.1292 - accuracy: 0.9476 - val_loss: 0.7710 - val_accuracy: 0.8061\n",
            "Epoch 30/50\n",
            "625/625 [==============================] - 38s 61ms/step - loss: 0.1193 - accuracy: 0.9540 - val_loss: 0.8008 - val_accuracy: 0.8088\n",
            "Epoch 31/50\n",
            "625/625 [==============================] - 38s 61ms/step - loss: 0.1132 - accuracy: 0.9567 - val_loss: 0.8076 - val_accuracy: 0.8049\n",
            "Epoch 32/50\n",
            "625/625 [==============================] - 38s 61ms/step - loss: 0.1076 - accuracy: 0.9577 - val_loss: 0.8319 - val_accuracy: 0.8062\n",
            "Epoch 33/50\n",
            "625/625 [==============================] - 38s 61ms/step - loss: 0.1088 - accuracy: 0.9589 - val_loss: 0.9037 - val_accuracy: 0.8015\n",
            "Epoch 34/50\n",
            "625/625 [==============================] - 38s 61ms/step - loss: 0.1019 - accuracy: 0.9603 - val_loss: 0.9860 - val_accuracy: 0.8038\n",
            "Epoch 35/50\n",
            "625/625 [==============================] - 38s 61ms/step - loss: 0.1002 - accuracy: 0.9628 - val_loss: 0.9507 - val_accuracy: 0.7970\n",
            "Epoch 36/50\n",
            "625/625 [==============================] - 38s 61ms/step - loss: 0.0942 - accuracy: 0.9632 - val_loss: 0.9791 - val_accuracy: 0.8015\n",
            "Epoch 37/50\n",
            "625/625 [==============================] - 38s 60ms/step - loss: 0.0916 - accuracy: 0.9661 - val_loss: 1.0256 - val_accuracy: 0.8007\n",
            "Epoch 38/50\n",
            "625/625 [==============================] - 38s 61ms/step - loss: 0.0775 - accuracy: 0.9702 - val_loss: 1.0872 - val_accuracy: 0.8031\n",
            "Epoch 39/50\n",
            "625/625 [==============================] - 38s 61ms/step - loss: 0.0810 - accuracy: 0.9676 - val_loss: 1.1456 - val_accuracy: 0.7961\n",
            "Epoch 40/50\n",
            "625/625 [==============================] - 38s 61ms/step - loss: 0.0820 - accuracy: 0.9660 - val_loss: 1.1384 - val_accuracy: 0.8025\n",
            "Epoch 41/50\n",
            "625/625 [==============================] - 38s 61ms/step - loss: 0.0712 - accuracy: 0.9739 - val_loss: 1.1917 - val_accuracy: 0.8027\n",
            "Epoch 42/50\n",
            "625/625 [==============================] - 38s 61ms/step - loss: 0.0705 - accuracy: 0.9725 - val_loss: 1.2216 - val_accuracy: 0.7976\n",
            "Epoch 43/50\n",
            "625/625 [==============================] - 38s 61ms/step - loss: 0.0642 - accuracy: 0.9753 - val_loss: 1.2181 - val_accuracy: 0.7916\n",
            "Epoch 44/50\n",
            "625/625 [==============================] - 38s 61ms/step - loss: 0.0610 - accuracy: 0.9761 - val_loss: 1.2771 - val_accuracy: 0.7976\n",
            "Epoch 45/50\n",
            "625/625 [==============================] - 38s 60ms/step - loss: 0.0642 - accuracy: 0.9756 - val_loss: 1.2615 - val_accuracy: 0.7976\n",
            "Epoch 46/50\n",
            "625/625 [==============================] - 38s 61ms/step - loss: 0.0590 - accuracy: 0.9769 - val_loss: 1.3651 - val_accuracy: 0.7945\n",
            "Epoch 47/50\n",
            "625/625 [==============================] - 38s 61ms/step - loss: 0.0564 - accuracy: 0.9783 - val_loss: 1.4528 - val_accuracy: 0.7955\n",
            "Epoch 48/50\n",
            "625/625 [==============================] - 38s 61ms/step - loss: 0.0633 - accuracy: 0.9753 - val_loss: 1.3524 - val_accuracy: 0.8004\n",
            "Epoch 49/50\n",
            "625/625 [==============================] - 38s 61ms/step - loss: 0.0577 - accuracy: 0.9768 - val_loss: 1.4719 - val_accuracy: 0.7919\n",
            "Epoch 50/50\n",
            "625/625 [==============================] - 38s 61ms/step - loss: 0.0504 - accuracy: 0.9793 - val_loss: 1.5345 - val_accuracy: 0.7918\n"
          ],
          "name": "stdout"
        }
      ]
    },
    {
      "cell_type": "code",
      "metadata": {
        "id": "g9DC6dmLF8DC",
        "colab": {
          "base_uri": "https://localhost:8080/",
          "height": 544
        },
        "outputId": "59d8ddb4-abcd-468e-9a4a-6e15b4db40c7"
      },
      "source": [
        "import matplotlib.pyplot as plt\n",
        "\n",
        "\n",
        "def plot_graphs(history, string):\n",
        "  plt.plot(history.history[string])\n",
        "  plt.plot(history.history['val_'+string])\n",
        "  plt.xlabel(\"Epochs\")\n",
        "  plt.ylabel(string)\n",
        "  plt.legend([string, 'val_'+string])\n",
        "  plt.show()\n",
        "\n",
        "plot_graphs(history, 'accuracy')\n",
        "plot_graphs(history, 'loss')"
      ],
      "execution_count": 3,
      "outputs": [
        {
          "output_type": "display_data",
          "data": {
            "image/png": "[encoded data removed]",
            "text/plain": [
              "<Figure size 432x288 with 1 Axes>"
            ]
          },
          "metadata": {
            "tags": [],
            "needs_background": "light"
          }
        },
        {
          "output_type": "display_data",
          "data": {
            "image/png": "[encoded data removed]",
            "text/plain": [
              "<Figure size 432x288 with 1 Axes>"
            ]
          },
          "metadata": {
            "tags": [],
            "needs_background": "light"
          }
        }
      ]
    },
    {
      "cell_type": "code",
      "metadata": {
        "id": "7ZEZIUppGhdi"
      },
      "source": [
        "model.save(\"test.h5\")"
      ],
      "execution_count": 4,
      "outputs": []
    }
  ]
}