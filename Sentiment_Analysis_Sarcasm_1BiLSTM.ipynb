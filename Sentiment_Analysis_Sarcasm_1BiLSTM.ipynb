{
  "nbformat": 4,
  "nbformat_minor": 0,
  "metadata": {
    "accelerator": "GPU",
    "colab": {
      "name": "P2_C3W3_7_Senti_Sarcasm_1BiLSTM.ipynb",
      "provenance": [],
      "collapsed_sections": [],
      "toc_visible": true
    },
    "kernelspec": {
      "display_name": "Python 3",
      "language": "python",
      "name": "python3"
    },
    "language_info": {
      "codemirror_mode": {
        "name": "ipython",
        "version": 3
      },
      "file_extension": ".py",
      "mimetype": "text/x-python",
      "name": "python",
      "nbconvert_exporter": "python",
      "pygments_lexer": "ipython3",
      "version": "3.7.6"
    }
  },
  "cells": [
    {
      "cell_type": "code",
      "metadata": {
        "id": "zX4Kg8DUTKWO"
      },
      "source": [
        "#@title Licensed under the Apache License, Version 2.0 (the \"License\");\n",
        "# you may not use this file except in compliance with the License.\n",
        "# You may obtain a copy of the License at\n",
        "#\n",
        "# https://www.apache.org/licenses/LICENSE-2.0\n",
        "#\n",
        "# Unless required by applicable law or agreed to in writing, software\n",
        "# distributed under the License is distributed on an \"AS IS\" BASIS,\n",
        "# WITHOUT WARRANTIES OR CONDITIONS OF ANY KIND, either express or implied.\n",
        "# See the License for the specific language governing permissions and\n",
        "# limitations under the License."
      ],
      "execution_count": 1,
      "outputs": []
    },
    {
      "cell_type": "markdown",
      "metadata": {
        "id": "uGKFeSDTp_kk"
      },
      "source": [
        "<a href=\"https://colab.research.google.com/github/lmoroney/dlaicourse/blob/master/TensorFlow%20In%20Practice/Course%203%20-%20NLP/Course%203%20-%20Week%203%20-%20Lesson%202.ipynb\" target=\"_parent\"><img src=\"https://colab.research.google.com/assets/colab-badge.svg\" alt=\"Open In Colab\"/></a>"
      ]
    },
    {
      "cell_type": "code",
      "metadata": {
        "id": "jGwXGIXvFhXW",
        "colab": {
          "base_uri": "https://localhost:8080/"
        },
        "outputId": "72d5b829-90bb-4dd5-dd9e-0c2deb5fe526"
      },
      "source": [
        "import numpy as np\n",
        "\n",
        "import json\n",
        "import tensorflow as tf\n",
        "\n",
        "from tensorflow.keras.preprocessing.text import Tokenizer\n",
        "from tensorflow.keras.preprocessing.sequence import pad_sequences\n",
        "\n",
        "!wget --no-check-certificate \\\n",
        "    https://storage.googleapis.com/laurencemoroney-blog.appspot.com/sarcasm.json \\\n",
        "    -O /tmp/sarcasm.json\n",
        "\n",
        "vocab_size = 1000\n",
        "embedding_dim = 16\n",
        "max_length = 120\n",
        "trunc_type='post'\n",
        "padding_type='post'\n",
        "oov_tok = \"<OOV>\"\n",
        "training_size = 20000\n",
        "\n",
        "\n",
        "with open(\"/tmp/sarcasm.json\", 'r') as f:\n",
        "    datastore = json.load(f)\n",
        "\n",
        "\n",
        "sentences = []\n",
        "labels = []\n",
        "urls = []\n",
        "for item in datastore:\n",
        "    sentences.append(item['headline'])\n",
        "    labels.append(item['is_sarcastic'])\n",
        "\n",
        "training_sentences = sentences[0:training_size]\n",
        "testing_sentences = sentences[training_size:]\n",
        "training_labels = labels[0:training_size]\n",
        "testing_labels = labels[training_size:]\n",
        "\n",
        "tokenizer = Tokenizer(num_words=vocab_size, oov_token=oov_tok)\n",
        "tokenizer.fit_on_texts(training_sentences)\n",
        "\n",
        "word_index = tokenizer.word_index\n",
        "\n",
        "training_sequences = tokenizer.texts_to_sequences(training_sentences)\n",
        "training_padded = pad_sequences(training_sequences, maxlen=max_length, padding=padding_type, truncating=trunc_type)\n",
        "\n",
        "testing_sequences = tokenizer.texts_to_sequences(testing_sentences)\n",
        "testing_padded = pad_sequences(testing_sequences, maxlen=max_length, padding=padding_type, truncating=trunc_type)\n",
        "\n",
        "model = tf.keras.Sequential([\n",
        "    tf.keras.layers.Embedding(vocab_size, embedding_dim, input_length=max_length),\n",
        "    tf.keras.layers.Bidirectional(tf.keras.layers.LSTM(32)),\n",
        "    tf.keras.layers.Dense(24, activation='relu'),\n",
        "    tf.keras.layers.Dense(1, activation='sigmoid')\n",
        "])\n",
        "model.compile(loss='binary_crossentropy',optimizer='adam',metrics=['accuracy'])\n",
        "model.summary()\n",
        "\n",
        "num_epochs = 50\n",
        "training_padded = np.array(training_padded)\n",
        "training_labels = np.array(training_labels)\n",
        "testing_padded = np.array(testing_padded)\n",
        "testing_labels = np.array(testing_labels)\n",
        "history = model.fit(training_padded, training_labels, epochs=num_epochs, validation_data=(testing_padded, testing_labels), verbose=1)\n"
      ],
      "execution_count": 2,
      "outputs": [
        {
          "output_type": "stream",
          "text": [
            "--2021-03-23 11:19:19--  https://storage.googleapis.com/laurencemoroney-blog.appspot.com/sarcasm.json\n",
            "Resolving storage.googleapis.com (storage.googleapis.com)... 64.233.167.128, 64.233.166.128, 74.125.133.128, ...\n",
            "Connecting to storage.googleapis.com (storage.googleapis.com)|64.233.167.128|:443... connected.\n",
            "HTTP request sent, awaiting response... 200 OK\n",
            "Length: 5643545 (5.4M) [application/json]\n",
            "Saving to: ‘/tmp/sarcasm.json’\n",
            "\n",
            "\r/tmp/sarcasm.json     0%[                    ]       0  --.-KB/s               \r/tmp/sarcasm.json   100%[===================>]   5.38M  --.-KB/s    in 0.04s   \n",
            "\n",
            "2021-03-23 11:19:19 (146 MB/s) - ‘/tmp/sarcasm.json’ saved [5643545/5643545]\n",
            "\n",
            "Model: \"sequential\"\n",
            "_________________________________________________________________\n",
            "Layer (type)                 Output Shape              Param #   \n",
            "=================================================================\n",
            "embedding (Embedding)        (None, 120, 16)           16000     \n",
            "_________________________________________________________________\n",
            "bidirectional (Bidirectional (None, 64)                12544     \n",
            "_________________________________________________________________\n",
            "dense (Dense)                (None, 24)                1560      \n",
            "_________________________________________________________________\n",
            "dense_1 (Dense)              (None, 1)                 25        \n",
            "=================================================================\n",
            "Total params: 30,129\n",
            "Trainable params: 30,129\n",
            "Non-trainable params: 0\n",
            "_________________________________________________________________\n",
            "Epoch 1/50\n",
            "625/625 [==============================] - 70s 62ms/step - loss: 0.5560 - accuracy: 0.6940 - val_loss: 0.3865 - val_accuracy: 0.8225\n",
            "Epoch 2/50\n",
            "625/625 [==============================] - 38s 60ms/step - loss: 0.3484 - accuracy: 0.8424 - val_loss: 0.3691 - val_accuracy: 0.8325\n",
            "Epoch 3/50\n",
            "625/625 [==============================] - 37s 60ms/step - loss: 0.3205 - accuracy: 0.8540 - val_loss: 0.3739 - val_accuracy: 0.8305\n",
            "Epoch 4/50\n",
            "625/625 [==============================] - 37s 60ms/step - loss: 0.2990 - accuracy: 0.8668 - val_loss: 0.3794 - val_accuracy: 0.8246\n",
            "Epoch 5/50\n",
            "625/625 [==============================] - 38s 60ms/step - loss: 0.2981 - accuracy: 0.8683 - val_loss: 0.3808 - val_accuracy: 0.8298\n",
            "Epoch 6/50\n",
            "625/625 [==============================] - 38s 60ms/step - loss: 0.2822 - accuracy: 0.8769 - val_loss: 0.3769 - val_accuracy: 0.8337\n",
            "Epoch 7/50\n",
            "625/625 [==============================] - 38s 61ms/step - loss: 0.2672 - accuracy: 0.8854 - val_loss: 0.3805 - val_accuracy: 0.8289\n",
            "Epoch 8/50\n",
            "625/625 [==============================] - 38s 61ms/step - loss: 0.2626 - accuracy: 0.8857 - val_loss: 0.3876 - val_accuracy: 0.8269\n",
            "Epoch 9/50\n",
            "625/625 [==============================] - 38s 60ms/step - loss: 0.2605 - accuracy: 0.8882 - val_loss: 0.4013 - val_accuracy: 0.8277\n",
            "Epoch 10/50\n",
            "625/625 [==============================] - 38s 60ms/step - loss: 0.2551 - accuracy: 0.8905 - val_loss: 0.4005 - val_accuracy: 0.8283\n",
            "Epoch 11/50\n",
            "625/625 [==============================] - 38s 61ms/step - loss: 0.2499 - accuracy: 0.8935 - val_loss: 0.3987 - val_accuracy: 0.8284\n",
            "Epoch 12/50\n",
            "625/625 [==============================] - 38s 61ms/step - loss: 0.2422 - accuracy: 0.8984 - val_loss: 0.4126 - val_accuracy: 0.8280\n",
            "Epoch 13/50\n",
            "625/625 [==============================] - 38s 60ms/step - loss: 0.2326 - accuracy: 0.9021 - val_loss: 0.4249 - val_accuracy: 0.8246\n",
            "Epoch 14/50\n",
            "625/625 [==============================] - 38s 61ms/step - loss: 0.2222 - accuracy: 0.9067 - val_loss: 0.4392 - val_accuracy: 0.8220\n",
            "Epoch 15/50\n",
            "625/625 [==============================] - 38s 61ms/step - loss: 0.2160 - accuracy: 0.9098 - val_loss: 0.4476 - val_accuracy: 0.8216\n",
            "Epoch 16/50\n",
            "625/625 [==============================] - 38s 60ms/step - loss: 0.2020 - accuracy: 0.9153 - val_loss: 0.4635 - val_accuracy: 0.8179\n",
            "Epoch 17/50\n",
            "625/625 [==============================] - 38s 60ms/step - loss: 0.2028 - accuracy: 0.9134 - val_loss: 0.4701 - val_accuracy: 0.8159\n",
            "Epoch 18/50\n",
            "625/625 [==============================] - 38s 61ms/step - loss: 0.1950 - accuracy: 0.9193 - val_loss: 0.4942 - val_accuracy: 0.8147\n",
            "Epoch 19/50\n",
            "625/625 [==============================] - 38s 60ms/step - loss: 0.1883 - accuracy: 0.9200 - val_loss: 0.5075 - val_accuracy: 0.8162\n",
            "Epoch 20/50\n",
            "625/625 [==============================] - 37s 60ms/step - loss: 0.1864 - accuracy: 0.9225 - val_loss: 0.5185 - val_accuracy: 0.8098\n",
            "Epoch 21/50\n",
            "625/625 [==============================] - 38s 60ms/step - loss: 0.1757 - accuracy: 0.9298 - val_loss: 0.5587 - val_accuracy: 0.8089\n",
            "Epoch 22/50\n",
            "625/625 [==============================] - 38s 60ms/step - loss: 0.1700 - accuracy: 0.9305 - val_loss: 0.5763 - val_accuracy: 0.8101\n",
            "Epoch 23/50\n",
            "625/625 [==============================] - 38s 60ms/step - loss: 0.1652 - accuracy: 0.9318 - val_loss: 0.6348 - val_accuracy: 0.8110\n",
            "Epoch 24/50\n",
            "625/625 [==============================] - 37s 60ms/step - loss: 0.1538 - accuracy: 0.9381 - val_loss: 0.6372 - val_accuracy: 0.8116\n",
            "Epoch 25/50\n",
            "625/625 [==============================] - 38s 60ms/step - loss: 0.1441 - accuracy: 0.9421 - val_loss: 0.6940 - val_accuracy: 0.8056\n",
            "Epoch 26/50\n",
            "625/625 [==============================] - 38s 60ms/step - loss: 0.1387 - accuracy: 0.9419 - val_loss: 0.7479 - val_accuracy: 0.8098\n",
            "Epoch 27/50\n",
            "625/625 [==============================] - 38s 60ms/step - loss: 0.1376 - accuracy: 0.9415 - val_loss: 0.7224 - val_accuracy: 0.8034\n",
            "Epoch 28/50\n",
            "625/625 [==============================] - 38s 61ms/step - loss: 0.1251 - accuracy: 0.9487 - val_loss: 0.7655 - val_accuracy: 0.8086\n",
            "Epoch 29/50\n",
            "625/625 [==============================] - 38s 61ms/step - loss: 0.1221 - accuracy: 0.9500 - val_loss: 0.7479 - val_accuracy: 0.7995\n",
            "Epoch 30/50\n",
            "625/625 [==============================] - 38s 61ms/step - loss: 0.1141 - accuracy: 0.9545 - val_loss: 0.8220 - val_accuracy: 0.7995\n",
            "Epoch 31/50\n",
            "625/625 [==============================] - 38s 61ms/step - loss: 0.1150 - accuracy: 0.9541 - val_loss: 0.8435 - val_accuracy: 0.8031\n",
            "Epoch 32/50\n",
            "625/625 [==============================] - 38s 61ms/step - loss: 0.1078 - accuracy: 0.9575 - val_loss: 0.8858 - val_accuracy: 0.8046\n",
            "Epoch 33/50\n",
            "625/625 [==============================] - 38s 61ms/step - loss: 0.1050 - accuracy: 0.9567 - val_loss: 0.9647 - val_accuracy: 0.7974\n",
            "Epoch 34/50\n",
            "625/625 [==============================] - 38s 61ms/step - loss: 0.1053 - accuracy: 0.9570 - val_loss: 0.9393 - val_accuracy: 0.7986\n",
            "Epoch 35/50\n",
            "625/625 [==============================] - 38s 61ms/step - loss: 0.0972 - accuracy: 0.9604 - val_loss: 1.0713 - val_accuracy: 0.8032\n",
            "Epoch 36/50\n",
            "625/625 [==============================] - 38s 61ms/step - loss: 0.0892 - accuracy: 0.9646 - val_loss: 1.0416 - val_accuracy: 0.8027\n",
            "Epoch 37/50\n",
            "625/625 [==============================] - 38s 61ms/step - loss: 0.0882 - accuracy: 0.9673 - val_loss: 1.1610 - val_accuracy: 0.8003\n",
            "Epoch 38/50\n",
            "625/625 [==============================] - 38s 61ms/step - loss: 0.0787 - accuracy: 0.9681 - val_loss: 1.1676 - val_accuracy: 0.7940\n",
            "Epoch 39/50\n",
            "625/625 [==============================] - 39s 62ms/step - loss: 0.0787 - accuracy: 0.9679 - val_loss: 1.2064 - val_accuracy: 0.7930\n",
            "Epoch 40/50\n",
            "625/625 [==============================] - 38s 61ms/step - loss: 0.0737 - accuracy: 0.9716 - val_loss: 1.2771 - val_accuracy: 0.7959\n",
            "Epoch 41/50\n",
            "625/625 [==============================] - 38s 61ms/step - loss: 0.0789 - accuracy: 0.9694 - val_loss: 1.2750 - val_accuracy: 0.7883\n",
            "Epoch 42/50\n",
            "625/625 [==============================] - 38s 61ms/step - loss: 0.0770 - accuracy: 0.9697 - val_loss: 1.2830 - val_accuracy: 0.7970\n",
            "Epoch 43/50\n",
            "625/625 [==============================] - 38s 61ms/step - loss: 0.0630 - accuracy: 0.9770 - val_loss: 1.3094 - val_accuracy: 0.7888\n",
            "Epoch 44/50\n",
            "625/625 [==============================] - 38s 61ms/step - loss: 0.0603 - accuracy: 0.9772 - val_loss: 1.3754 - val_accuracy: 0.7888\n",
            "Epoch 45/50\n",
            "625/625 [==============================] - 38s 61ms/step - loss: 0.0673 - accuracy: 0.9731 - val_loss: 1.4362 - val_accuracy: 0.7803\n",
            "Epoch 46/50\n",
            "625/625 [==============================] - 38s 61ms/step - loss: 0.0617 - accuracy: 0.9757 - val_loss: 1.3960 - val_accuracy: 0.7937\n",
            "Epoch 47/50\n",
            "625/625 [==============================] - 38s 61ms/step - loss: 0.0564 - accuracy: 0.9785 - val_loss: 1.5024 - val_accuracy: 0.7906\n",
            "Epoch 48/50\n",
            "625/625 [==============================] - 38s 61ms/step - loss: 0.0575 - accuracy: 0.9761 - val_loss: 1.6420 - val_accuracy: 0.7824\n",
            "Epoch 49/50\n",
            "625/625 [==============================] - 38s 61ms/step - loss: 0.0540 - accuracy: 0.9788 - val_loss: 1.6943 - val_accuracy: 0.7866\n",
            "Epoch 50/50\n",
            "625/625 [==============================] - 38s 61ms/step - loss: 0.0604 - accuracy: 0.9751 - val_loss: 1.6323 - val_accuracy: 0.7936\n"
          ],
          "name": "stdout"
        }
      ]
    },
    {
      "cell_type": "code",
      "metadata": {
        "id": "g9DC6dmLF8DC",
        "colab": {
          "base_uri": "https://localhost:8080/",
          "height": 542
        },
        "outputId": "73b8d80d-bc59-4a1e-8adc-9e562dcff7e1"
      },
      "source": [
        "import matplotlib.pyplot as plt\n",
        "\n",
        "\n",
        "def plot_graphs(history, string):\n",
        "  plt.plot(history.history[string])\n",
        "  plt.plot(history.history['val_'+string])\n",
        "  plt.xlabel(\"Epochs\")\n",
        "  plt.ylabel(string)\n",
        "  plt.legend([string, 'val_'+string])\n",
        "  plt.show()\n",
        "\n",
        "plot_graphs(history, 'accuracy')\n",
        "plot_graphs(history, 'loss')"
      ],
      "execution_count": 3,
      "outputs": [
        {
          "output_type": "display_data",
          "data": {
            "image/png": "[encoded data removed]",
            "text/plain": [
              "<Figure size 432x288 with 1 Axes>"
            ]
          },
          "metadata": {
            "tags": [],
            "needs_background": "light"
          }
        },
        {
          "output_type": "display_data",
          "data": {
            "image/png": "[encoded data removed]",
            "text/plain": [
              "<Figure size 432x288 with 1 Axes>"
            ]
          },
          "metadata": {
            "tags": [],
            "needs_background": "light"
          }
        }
      ]
    },
    {
      "cell_type": "code",
      "metadata": {
        "id": "7ZEZIUppGhdi"
      },
      "source": [
        "model.save(\"test.h5\")"
      ],
      "execution_count": 4,
      "outputs": []
    }
  ]
}